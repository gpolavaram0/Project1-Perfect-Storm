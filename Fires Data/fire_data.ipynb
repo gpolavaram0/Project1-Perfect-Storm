{
 "cells": [
  {
   "cell_type": "code",
   "execution_count": 4,
   "metadata": {},
   "outputs": [
    {
     "ename": "ModuleNotFoundError",
     "evalue": "No module named 'config'",
     "output_type": "error",
     "traceback": [
      "\u001b[0;31m---------------------------------------------------------------------------\u001b[0m",
      "\u001b[0;31mModuleNotFoundError\u001b[0m                       Traceback (most recent call last)",
      "\u001b[0;32m<ipython-input-4-6627fcbf85d2>\u001b[0m in \u001b[0;36m<module>\u001b[0;34m\u001b[0m\n\u001b[1;32m      4\u001b[0m \u001b[0;32mimport\u001b[0m \u001b[0mnumpy\u001b[0m \u001b[0;32mas\u001b[0m \u001b[0mnp\u001b[0m\u001b[0;34m\u001b[0m\u001b[0;34m\u001b[0m\u001b[0m\n\u001b[1;32m      5\u001b[0m \u001b[0;32mimport\u001b[0m \u001b[0mpandas\u001b[0m \u001b[0;32mas\u001b[0m \u001b[0mpd\u001b[0m\u001b[0;34m\u001b[0m\u001b[0;34m\u001b[0m\u001b[0m\n\u001b[0;32m----> 6\u001b[0;31m \u001b[0;32mfrom\u001b[0m \u001b[0mconfig\u001b[0m \u001b[0;32mimport\u001b[0m \u001b[0mgkey\u001b[0m\u001b[0;34m\u001b[0m\u001b[0;34m\u001b[0m\u001b[0m\n\u001b[0m\u001b[1;32m      7\u001b[0m \u001b[0;34m\u001b[0m\u001b[0m\n\u001b[1;32m      8\u001b[0m \u001b[0mcsvreader\u001b[0m \u001b[0;34m=\u001b[0m \u001b[0mpd\u001b[0m\u001b[0;34m.\u001b[0m\u001b[0mread_csv\u001b[0m\u001b[0;34m(\u001b[0m\u001b[0;34m\"fire_data.csv\"\u001b[0m\u001b[0;34m)\u001b[0m\u001b[0;34m\u001b[0m\u001b[0;34m\u001b[0m\u001b[0m\n",
      "\u001b[0;31mModuleNotFoundError\u001b[0m: No module named 'config'"
     ]
    }
   ],
   "source": [
    "# Dependencies\n",
    "from matplotlib import pyplot as plt\n",
    "from scipy import stats\n",
    "import numpy as np\n",
    "import pandas as pd\n",
    "from config import gkey\n",
    "\n",
    "csvreader = pd.read_csv(\"fire_data.csv\")\n",
    "#csvreader.info()\n",
    "\n",
    "#converting dates to Gegorian format \n",
    "csvreader[\"DISCOVERY_DATE\"] = pd.to_datetime(csvreader['DISCOVERY_DATE'] - pd.Timestamp(0).to_julian_date(), unit='D')\n",
    "csvreader[\"CONT_DATE\"] = pd.to_datetime(csvreader['CONT_DATE'] - pd.Timestamp(0).to_julian_date(), unit='D')\n",
    "csvreader[\"LENGTH_OF_BURN\"] = csvreader[\"CONT_DATE\"] - csvreader[\"DISCOVERY_DATE\"]\n",
    "\n",
    "dates = csvreader[[\"STATE\",\"COUNTY\", \"STAT_CAUSE_DESCR\",\"FIRE_YEAR\", \"DISCOVERY_DATE\", \"DISCOVERY_DOY\", \"CONT_DATE\",\"CONT_DOY\", \"LENGTH_OF_BURN\"]]\n",
    "\n",
    "total_fires_state= pd.DataFrame(dates.groupby(\"STATE\")[\"FIRE_YEAR\"].count().sort_values(ascending=False))\n",
    "#plot = total_fires_state.plot(kind = \"bar\", figsize = (10,10), legend = None)\n",
    "plt.tight_layout()\n",
    "\n",
    "year = pd.DataFrame(dates.groupby(\"FIRE_YEAR\")[\"STATE\"].count())\n",
    "#plot2 = year.plot(kind = \"line\", legend =None)\n",
    "\n",
    "california = dates[dates[\"STATE\"]== \"CA\"]\n",
    "cali_causes = pd.DataFrame(california.groupby(\"STAT_CAUSE_DESCR\")[\"FIRE_YEAR\"].count())\n",
    "count = cali_causes[[\"FIRE_YEAR\"]]\n",
    "#cali_causes.plot(kind = \"bar\", legend = None)\n",
    "plt.ylim= (0, COUNT +1000)\n",
    "\n",
    "working_data_f = pd.DataFrame(csvreader.loc[csvreader[\"FIRE_SIZE_CLASS\"] == \"F\"])\n",
    "working_data_g = pd.DataFrame(csvreader.loc[csvreader[\"FIRE_SIZE_CLASS\"] == \"G\"])\n",
    "\n",
    "working_data_full = working_data_f.append(working_data_g)\n",
    "\n",
    "new = csvreader.groupby(\"FIRE_SIZE_CLASS\").count()\n",
    "\n",
    "working_data_full.to_csv(\"../working_fires.csv\", index=False, header=True)\n",
    "\n",
    "working_data_full"
   ]
  },
  {
   "cell_type": "code",
   "execution_count": null,
   "metadata": {},
   "outputs": [],
   "source": [
    "county_add_working_data = working_data_full[[\"FOD_ID\",\"LATITUDE\", \"LONGITUDE\"]]\n",
    "county_add_working_data[\"COUNTY\"] = \"\"\n",
    "county_add_working_data\n",
    "\n",
    "params = {\"key\": gkey}\n",
    "\n",
    "for index, row in county_add_working_data.iterrows():\n",
    "    base_url = \"https://maps.googleapis.com/maps/api/geocode/json?\"\n",
    "\n",
    "    lat = row['LATITUDE']\n",
    "    lng = row['LONGITUDE']\n",
    "\n",
    "    # update address key value\n",
    "    params['latlng'] = f\"{lat},{lng}\"\n",
    "\n",
    "    # make request\n",
    "    counites = requests.get(base_url, params=params)\n",
    "    \n",
    "    # print the cities_lat_lng url, avoid doing for public github repos in order to avoid exposing key\n",
    "    # print(cities_lat_lng.url)\n",
    "    \n",
    "    # convert to json\n",
    "    fire_county = cities_lat_lng.json()\n",
    "\n",
    "\n",
    "\n",
    "    county_add_working_data.loc[index, \"COUNTY\"] = fire_county[\"results\"][0][4]\n",
    "    \n",
    "# Visualize to confirm lat lng appear\n",
    "county_add_working_data\n",
    "\n"
   ]
  },
  {
   "cell_type": "code",
   "execution_count": null,
   "metadata": {},
   "outputs": [],
   "source": []
  }
 ],
 "metadata": {
  "kernelspec": {
   "display_name": "Python 3.6.10 64-bit ('PythonData': conda)",
   "language": "python",
   "name": "python361064bitpythondataconda702a049063da4b8fb25107aa449393fc"
  },
  "language_info": {
   "codemirror_mode": {
    "name": "ipython",
    "version": 3
   },
   "file_extension": ".py",
   "mimetype": "text/x-python",
   "name": "python",
   "nbconvert_exporter": "python",
   "pygments_lexer": "ipython3",
   "version": "3.7.6-final"
  }
 },
 "nbformat": 4,
 "nbformat_minor": 2
}