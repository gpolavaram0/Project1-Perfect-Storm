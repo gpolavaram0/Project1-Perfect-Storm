{
 "cells": [
  {
   "cell_type": "code",
   "execution_count": null,
   "metadata": {},
   "outputs": [],
   "source": [
    "# Import Dependencies\n",
    "import pandas as pd\n",
    "import os\n",
    "import csv\n",
    "import scipy.stats as st\n",
    "import numpy as np\n",
    "import matplotlib.pyplot as plt\n",
    "%matplotlib inline\n",
    "%matplotlib notebook"
   ]
  },
  {
   "cell_type": "code",
   "execution_count": null,
   "metadata": {},
   "outputs": [],
   "source": [
    "#load file fire data ----------------------------- BIG FILE -------------------------------\n",
    "datafile = pd.read_csv(\"fire_data.csv\")\n",
    "df1=pd.DataFrame(datafile)\n",
    "df1.head()"
   ]
  },
  {
   "cell_type": "code",
   "execution_count": null,
   "metadata": {},
   "outputs": [],
   "source": [
    "#number of fires per class - to be graphed below -------------------------------------        FIRE SIZE BY CLASS\n",
    "df3 = df1.groupby(\"FIRE_SIZE_CLASS\").OBJECTID.count()"
   ]
  },
  {
   "cell_type": "code",
   "execution_count": null,
   "metadata": {
    "scrolled": true
   },
   "outputs": [],
   "source": [
    "#graph of number of fires by class ------------------------------------------------------     FIRE SIZE BY CLASS\n",
    "df3.plot(kind=\"bar\", figsize=(10,10), colormap=\"Accent\")\n",
    "plt.title(\"Total Number of Fires by Class Size\")\n",
    "plt.xlabel(\"Fire Size Class\")\n",
    "plt.ylabel(\"Number of Fires 1992-2015\")\n",
    "\n",
    "#plt.savefig(\"total_fire_classNT.png\") #save turned off\n",
    "plt.show()"
   ]
  },
  {
   "cell_type": "code",
   "execution_count": null,
   "metadata": {},
   "outputs": [],
   "source": [
    "#number of fires per state - sorted by the most to the least - need for below - - - - - - - - FIRE BY STATE\n",
    "df4 = df1[\"STATE\"].value_counts()"
   ]
  },
  {
   "cell_type": "code",
   "execution_count": null,
   "metadata": {
    "scrolled": false
   },
   "outputs": [],
   "source": [
    "#graph for total fires by state - - - - - - - -                                               FIRE BY STATE\n",
    "df4.plot(kind=\"bar\", figsize=(10,10), colormap=\"Blues_r\")\n",
    "#plt.title(\"Total Number of Fires by State or Territory\")\n",
    "plt.xlabel(\"US State or Territory\")\n",
    "plt.ylabel(\"Number of Fires 1992-2015\")\n",
    "#plt.savefig(\"total_fire_stateNT.png\") #save turned off\n",
    "plt.show()"
   ]
  },
  {
   "cell_type": "code",
   "execution_count": null,
   "metadata": {
    "scrolled": true
   },
   "outputs": [],
   "source": [
    "#number of fires per class - sorted by the most to the least - need for below\n",
    "df6 = df1[\"FIRE_YEAR\"].value_counts(sort=False)"
   ]
  },
  {
   "cell_type": "code",
   "execution_count": null,
   "metadata": {},
   "outputs": [],
   "source": [
    "#graph for total fires by year between 1992 and 2015 ------------------------------------------------ FIRE BY YEAR\n",
    "df6.plot(kind=\"area\", figsize=(10,10), colormap=\"copper_r\")\n",
    "df6.plot(kind=\"line\", figsize=(10,10), colormap=\"Set1\")\n",
    "#plt.title(\"Total Number of Fires by Year\")\n",
    "plt.xlabel(\"Year\")\n",
    "plt.ylabel(\"Number of Fires\")\n",
    "#plt.savefig(\"total_fire_yearNTc.png\") #save turned off\n",
    "plt.show()"
   ]
  },
  {
   "cell_type": "code",
   "execution_count": null,
   "metadata": {},
   "outputs": [],
   "source": [
    "#remove string info from LENGTH_OF_BURN column convert to float or int for statistics test near bottom\n",
    "df10[\"LENGTH_OF_BURN\"] = df10[\"LENGTH_OF_BURN\"].fillna(\"0 days\")\n",
    "df10['LENGTH_OF_BURN'].replace(regex=True,inplace=True,to_replace=r'\\D',value=r'')\n",
    "df10['LENGTH_OF_BURN'] = df10['LENGTH_OF_BURN'].astype(float)\n",
    "df10['LENGTH_OF_BURN'] = df10['LENGTH_OF_BURN']/1000000000000000"
   ]
  },
  {
   "cell_type": "markdown",
   "metadata": {},
   "source": [
    "=========================== BELOW IS THE NEW FILE DATA MANIPULATION ========"
   ]
  },
  {
   "cell_type": "code",
   "execution_count": null,
   "metadata": {},
   "outputs": [],
   "source": [
    "#load final combined file - 55 columns\n",
    "datafile1 = pd.read_excel('final_data_set.all_combined.xlsx', index_col=0)\n",
    "df10=pd.DataFrame(datafile1)\n",
    "\n",
    "df10.info()"
   ]
  },
  {
   "cell_type": "code",
   "execution_count": null,
   "metadata": {},
   "outputs": [],
   "source": [
    "#removing superfluous columns - 15 columns\n",
    "df20 = df10.drop(columns=[\"LOCAL_FIRE_REPORT_ID\", \"LOCAL_INCIDENT_ID\", \"FIRE_CODE\", \"FIRE_NAME\", \"ICS_209_INCIDENT_NUMBER\", \"ICS_209_NAME\", \"MTBS_ID\", \"MTBS_FIRE_NAME\", \"COMPLEX_NAME\", \"DISCOVERY_TIME\", \"CONT_TIME\", \"COUNTY\", \"FIPS_CODE\", \"FIPS_NAME\", \"Shape\"])\n",
    "#df20.info()"
   ]
  },
  {
   "cell_type": "code",
   "execution_count": null,
   "metadata": {},
   "outputs": [],
   "source": [
    "#remove NaN values for those items that remain\n",
    "df20.dropna(how='any')\n",
    "df20.info()"
   ]
  },
  {
   "cell_type": "code",
   "execution_count": null,
   "metadata": {},
   "outputs": [],
   "source": [
    "#remove string info from LENGTH_OF_BURN column convert to float or int\n",
    "df20[\"LENGTH_OF_BURN\"] = df20[\"LENGTH_OF_BURN\"].fillna(\"0 days\")\n",
    "df20['LENGTH_OF_BURN'].replace(regex=True,inplace=True,to_replace=r'\\D',value=r'')\n",
    "df20['LENGTH_OF_BURN'] = df20['LENGTH_OF_BURN'].astype(float)\n",
    "df20['LENGTH_OF_BURN'] = df20['LENGTH_OF_BURN']/1000000000000000"
   ]
  },
  {
   "cell_type": "code",
   "execution_count": null,
   "metadata": {},
   "outputs": [],
   "source": [
    "#remove lenght of burn items with 0\n",
    "indexNames1 = df20[df20['LENGTH_OF_BURN'] == 0].index\n",
    " \n",
    "# Delete these row indexes from dataFrame\n",
    "df20.drop(indexNames1, inplace=True)"
   ]
  },
  {
   "cell_type": "code",
   "execution_count": null,
   "metadata": {},
   "outputs": [],
   "source": [
    "#remove humdity items with 0\n",
    "indexNames2 = df20[df20['Humidity'] == 0].index\n",
    " \n",
    "# Delete these row indexes from dataFrame\n",
    "df20.drop(indexNames2, inplace=True)"
   ]
  },
  {
   "cell_type": "code",
   "execution_count": null,
   "metadata": {},
   "outputs": [],
   "source": [
    "#updated info after the above purge\n",
    "df20.info()"
   ]
  },
  {
   "cell_type": "code",
   "execution_count": null,
   "metadata": {},
   "outputs": [],
   "source": [
    "#remove empty data\n",
    "df20['Temp High'].replace('', np.nan, inplace=True)\n",
    "df20['Temp Low'].replace('', np.nan, inplace=True)\n",
    "df20['Dew Point'].replace('', np.nan, inplace=True)\n",
    "df20['Humidity'].replace('', np.nan, inplace=True)\n",
    "df20['Moon Phase'].replace('', np.nan, inplace=True)\n",
    "df20['\"ICON\"'].replace('', np.nan, inplace=True)\n",
    "df20['Precip Intensity'].replace('', np.nan, inplace=True)\n",
    "df20['Precip Probability'].replace('', np.nan, inplace=True)\n",
    "df20['uv index'].replace('', np.nan, inplace=True)\n",
    "df20['windBearing'].replace('', np.nan, inplace=True)\n",
    "df20['windGust'].replace('', np.nan, inplace=True)\n",
    "df20['Wind Speed'].replace('', np.nan, inplace=True)\n",
    "\n",
    "\n",
    "df20.dropna(subset=['Temp High'], inplace=True)\n",
    "df20.dropna(subset=['Temp Low'], inplace=True)\n",
    "df20.dropna(subset=['Dew Point'], inplace=True)\n",
    "df20.dropna(subset=['Humidity'], inplace=True)\n",
    "df20.dropna(subset=['Moon Phase'], inplace=True)\n",
    "df20.dropna(subset =['\"ICON\"'], inplace=True)\n",
    "df20.dropna(subset=['Precip Intensity'], inplace=True)\n",
    "df20.dropna(subset=['Precip Probability'], inplace=True)\n",
    "df20.dropna(subset=['uv index'], inplace=True)\n",
    "df20.dropna(subset=['windBearing'], inplace=True)\n",
    "df20.dropna(subset=['windGust'], inplace=True)\n",
    "df20.dropna(subset=['Wind Speed'], inplace=True)\n",
    "\n",
    "df20.info()"
   ]
  },
  {
   "cell_type": "code",
   "execution_count": null,
   "metadata": {},
   "outputs": [],
   "source": [
    "#save work to file with fully complete records = 5860 + + + + + + + + + + + + + + + + + + + + + + + + + + + + + + +\n",
    "#df20.to_csv(\"test_data.csv\", encoding='utf-8', index=False)"
   ]
  },
  {
   "cell_type": "code",
   "execution_count": null,
   "metadata": {
    "scrolled": false
   },
   "outputs": [],
   "source": [
    "#scatter plot length of burn to pop density - most fires occur in unpopulated areas r squared is -0.09559\n",
    "x_values = df20['LENGTH_OF_BURN']\n",
    "y_values = df20['Population Density']\n",
    "(slope, intercept, rvalue, pvalue, stderr) = st.linregress(x_values, y_values)\n",
    "regress_values = x_values * slope + intercept\n",
    "line_eq = \"y =\" + str(round(slope,2)) + \"x + \" + str(round(intercept,2))\n",
    "plt.scatter(x_values, y_values)\n",
    "plt.plot(x_values, regress_values, \"r-\")\n",
    "plt.annotate(line_eq, (100,1500), fontsize=15, color=\"red\")\n",
    "plt.ylabel(\"Population Density\")\n",
    "plt.xlabel(\"Length of Burn in Days\")\n",
    "figsize = (10,10)\n",
    "print(f\"The r-squared is: {rvalue}\")\n",
    "plt.grid()\n",
    "#plt.savefig(\"lob_vs_popden.png\") #save turned off"
   ]
  },
  {
   "cell_type": "code",
   "execution_count": null,
   "metadata": {},
   "outputs": [],
   "source": [
    "#scatter plot length of burn to housing density r squared is - 0.1009\n",
    "x_values = df20['LENGTH_OF_BURN']\n",
    "y_values = df20['Housing Density']\n",
    "(slope, intercept, rvalue, pvalue, stderr) = st.linregress(x_values, y_values)\n",
    "regress_values = x_values * slope + intercept\n",
    "line_eq = \"y =\" + str(round(slope,2)) + \"x + \" + str(round(intercept,2))\n",
    "plt.scatter(x_values, y_values)\n",
    "plt.plot(x_values, regress_values, \"r-\")\n",
    "plt.annotate(line_eq, (100,1000), fontsize=15, color=\"red\")\n",
    "plt.ylabel(\"Housing Density\")\n",
    "plt.xlabel(\"Length of Burn in Days\")\n",
    "figsize = (10,10)\n",
    "print(f\"The r-squared is: {rvalue}\")\n",
    "plt.grid()\n",
    "#plt.savefig(\"lob_vs_housingden.png\") #save turned off"
   ]
  },
  {
   "cell_type": "code",
   "execution_count": null,
   "metadata": {
    "scrolled": true
   },
   "outputs": [],
   "source": [
    "#scatter plot length of burn to dew point - r squared is 0.0202\n",
    "y_values = df20['Dew Point']\n",
    "(slope, intercept, rvalue, pvalue, stderr) = st.linregress(x_values, y_values)\n",
    "regress_values = x_values * slope + intercept\n",
    "line_eq = \"y =\" + str(round(slope,2)) + \"x + \" + str(round(intercept,2))\n",
    "plt.scatter(x_values, y_values)\n",
    "plt.plot(x_values, regress_values, \"r-\")\n",
    "plt.annotate(line_eq, (150,.1), fontsize=15, color=\"red\")\n",
    "plt.ylabel(\"Dew Point\")\n",
    "plt.xlabel(\"Length of Burn in Days\")\n",
    "figsize = (10,10)\n",
    "print(f\"The r-squared is: {rvalue}\")\n",
    "plt.grid()\n",
    "#plt.savefig(\"lob_vs_dewpoint.png\") #save turned off"
   ]
  },
  {
   "cell_type": "code",
   "execution_count": null,
   "metadata": {},
   "outputs": [],
   "source": [
    "#scatter plot length of burn to humidity - r squared is 0.1704\n",
    "y_values = df20['Humidity']\n",
    "x_values = df20['LENGTH_OF_BURN']\n",
    "(slope, intercept, rvalue, pvalue, stderr) = st.linregress(x_values, y_values)\n",
    "regress_values = x_values * slope + intercept\n",
    "line_eq = \"y =\" + str(round(slope,2)) + \"x + \" + str(round(intercept,2))\n",
    "plt.scatter(x_values, y_values)\n",
    "plt.plot(x_values, regress_values, \"r-\")\n",
    "plt.annotate(line_eq, (150,.1), fontsize=15, color=\"red\")\n",
    "plt.ylabel(\"Humdity\")\n",
    "plt.xlabel(\"Length of Burn in Days\")\n",
    "figsize = (10,10)\n",
    "print(f\"The r-squared is: {rvalue}\")\n",
    "plt.grid()\n",
    "#plt.savefig(\"lob_vs_humidity.png\") #save turned off"
   ]
  },
  {
   "cell_type": "code",
   "execution_count": null,
   "metadata": {},
   "outputs": [],
   "source": [
    "#scatter plot length of burn to wind speed - Weak correlation -0.3433 - - - - - - - - - - - - - - - - - - - - -\n",
    "y_values = df20['Wind Speed']\n",
    "x_values = df20['LENGTH_OF_BURN']\n",
    "(slope, intercept, rvalue, pvalue, stderr) = st.linregress(x_values, y_values)\n",
    "regress_values = x_values * slope + intercept\n",
    "line_eq = \"y =\" + str(round(slope,2)) + \"x + \" + str(round(intercept,2))\n",
    "plt.scatter(x_values, y_values)\n",
    "plt.plot(x_values, regress_values, \"r-\")\n",
    "plt.annotate(line_eq, (150,20), fontsize=15, color=\"red\")\n",
    "plt.ylabel(\"Wind Speed\")\n",
    "plt.xlabel(\"Length of Burn in Days\")\n",
    "figsize = (10,10)\n",
    "print(f\"The r-squared is: {rvalue}\")\n",
    "plt.grid()\n",
    "#plt.savefig(\"lob_vs_windspeed.png\") #save turned off"
   ]
  },
  {
   "cell_type": "code",
   "execution_count": null,
   "metadata": {},
   "outputs": [],
   "source": [
    "#calculate average wind\n",
    "avg_wind = ((df20[\"windGust\"] + df20[\"Wind Speed\"])/2)"
   ]
  },
  {
   "cell_type": "code",
   "execution_count": null,
   "metadata": {},
   "outputs": [],
   "source": [
    "#scatter plot length of burn to avg wind speed - no correlation at -0.1454  nothing of value to share here\n",
    "y_values = avg_wind\n",
    "x_values = df20['LENGTH_OF_BURN']\n",
    "(slope, intercept, rvalue, pvalue, stderr) = st.linregress(x_values, y_values)\n",
    "regress_values = x_values * slope + intercept\n",
    "line_eq = \"y =\" + str(round(slope,2)) + \"x + \" + str(round(intercept,2))\n",
    "plt.scatter(x_values, y_values)\n",
    "plt.plot(x_values, regress_values, \"r-\")\n",
    "plt.annotate(line_eq, (150,20), fontsize=15, color=\"red\")\n",
    "plt.ylabel(\"Wind Speed\")\n",
    "plt.xlabel(\"Length of Burn in Days\")\n",
    "figsize = (10,10)\n",
    "print(f\"The r-squared is: {rvalue}\")\n",
    "plt.grid()\n",
    "#plt.savefig(\"lob_vs_avg_windspeed.png\") #save turned off"
   ]
  },
  {
   "cell_type": "code",
   "execution_count": null,
   "metadata": {},
   "outputs": [],
   "source": [
    "#calculate average temperature\n",
    "avg_temp = ((df20[\"Temp High\"] + df20[\"Temp Low\"])/2)"
   ]
  },
  {
   "cell_type": "code",
   "execution_count": null,
   "metadata": {},
   "outputs": [],
   "source": [
    "#scatter plot length of burn to avg temp - no correlation r squared is -0.1681\n",
    "y_values = avg_temp\n",
    "x_values = df20['LENGTH_OF_BURN']\n",
    "(slope, intercept, rvalue, pvalue, stderr) = st.linregress(x_values, y_values)\n",
    "regress_values = x_values * slope + intercept\n",
    "line_eq = \"y =\" + str(round(slope,2)) + \"x + \" + str(round(intercept,2))\n",
    "plt.scatter(x_values, y_values)\n",
    "plt.plot(x_values, regress_values, \"r-\")\n",
    "plt.annotate(line_eq, (150,.1), fontsize=15, color=\"red\")\n",
    "plt.ylabel(\"Average Temperature\")\n",
    "plt.xlabel(\"Length of Burn in Days\")\n",
    "figsize = (10,10)\n",
    "print(f\"The r-squared is: {rvalue}\")\n",
    "plt.grid()\n",
    "#plt.savefig(\"lob_vs_avg_temp.png\") #save turned off"
   ]
  },
  {
   "cell_type": "code",
   "execution_count": null,
   "metadata": {},
   "outputs": [],
   "source": [
    "#generate counts for pie chart on length of burn\n",
    "df13 = df20.LENGTH_OF_BURN.value_counts()"
   ]
  },
  {
   "cell_type": "code",
   "execution_count": null,
   "metadata": {
    "scrolled": true
   },
   "outputs": [],
   "source": [
    "#pie on lenght of burn - nothing of significance here other than most last under a week or less.\n",
    "df13.plot.pie(y='LENGTH_OF_BURN', figsize=(10,10))\n",
    "plt.show()"
   ]
  },
  {
   "cell_type": "code",
   "execution_count": null,
   "metadata": {},
   "outputs": [],
   "source": [
    "#try one sample T-Test\n",
    "\n",
    "import warnings\n",
    "warnings.filterwarnings('ignore')\n",
    "import scipy.stats as stats"
   ]
  },
  {
   "cell_type": "code",
   "execution_count": null,
   "metadata": {},
   "outputs": [],
   "source": [
    "#compare total data to sample data of smaller data set for wind speed\n",
    "def gendata(loc=0):\n",
    "    population = df10[\"Wind Speed\"]\n",
    "    sample = df20[\"Wind Speed\"]\n",
    "\n",
    "    # Scatter Plot of Data\n",
    "    plt.subplot(2, 1, 1)\n",
    "    plt.scatter(range(len(population)), population, label=\"population\")\n",
    "    plt.scatter(range(len(sample)), sample, label=\"sample\")\n",
    "    plt.legend()\n",
    "\n",
    "    # Histogram Plot of Data\n",
    "    plt.subplot(2, 1, 2)\n",
    "    plt.hist(population, 20, density=True, alpha=0.7, label=\"population\")\n",
    "    plt.hist(sample, 20, density=True, alpha=0.7, label=\"sample\")\n",
    "    plt.axvline(population.mean(), color='k', linestyle='dashed', linewidth=1)\n",
    "    plt.axvline(sample.mean(), color='k', linestyle='dashed', linewidth=1)\n",
    "    plt.legend()  \n",
    "    \n",
    "    return population, sample"
   ]
  },
  {
   "cell_type": "code",
   "execution_count": null,
   "metadata": {
    "scrolled": false
   },
   "outputs": [],
   "source": [
    "# Generate some data and show the scatter plot\n",
    "population, sample = gendata()\n",
    "#plt.savefig(\"ttest_windspeed1.png\") #save turned off"
   ]
  },
  {
   "cell_type": "code",
   "execution_count": null,
   "metadata": {},
   "outputs": [],
   "source": [
    "stats.ttest_1samp(sample, population.mean())"
   ]
  },
  {
   "cell_type": "code",
   "execution_count": null,
   "metadata": {},
   "outputs": [],
   "source": [
    "# Generate data with a bigger difference in means\n",
    "population, sample = gendata(loc=-2)\n",
    "#plt.savefig(\"ttest_windspeed2.png\") #save turned off"
   ]
  },
  {
   "cell_type": "code",
   "execution_count": null,
   "metadata": {},
   "outputs": [],
   "source": [
    "stats.ttest_1samp(sample, population.mean())"
   ]
  },
  {
   "cell_type": "code",
   "execution_count": null,
   "metadata": {},
   "outputs": [],
   "source": [
    "#compare total data to sample data of smaller data set for length of burn\n",
    "def gendata(loc=0):\n",
    "    population = df10[\"LENGTH_OF_BURN\"]\n",
    "    sample = df20[\"LENGTH_OF_BURN\"]\n",
    "\n",
    "    # Scatter Plot of Data\n",
    "    plt.subplot(2, 1, 1)\n",
    "    plt.scatter(range(len(population)), population, label=\"population\")\n",
    "    plt.scatter(range(len(sample)), sample, label=\"sample\")\n",
    "    plt.legend()\n",
    "\n",
    "    # Histogram Plot of Data\n",
    "    plt.subplot(2, 1, 2)\n",
    "    plt.hist(population, 20, density=True, alpha=0.7, label=\"population\")\n",
    "    plt.hist(sample, 20, density=True, alpha=0.7, label=\"sample\")\n",
    "    plt.axvline(population.mean(), color='k', linestyle='dashed', linewidth=1)\n",
    "    plt.axvline(sample.mean(), color='k', linestyle='dashed', linewidth=1)\n",
    "    plt.legend()  \n",
    "    \n",
    "    return population, sample"
   ]
  },
  {
   "cell_type": "code",
   "execution_count": null,
   "metadata": {},
   "outputs": [],
   "source": [
    "# Generate some data and show the scatter plot\n",
    "population, sample = gendata()\n",
    "#plt.savefig(\"ttest_length_of_burn1.png\") #save turned off"
   ]
  },
  {
   "cell_type": "code",
   "execution_count": null,
   "metadata": {},
   "outputs": [],
   "source": [
    "stats.ttest_1samp(sample, population.mean())"
   ]
  },
  {
   "cell_type": "code",
   "execution_count": null,
   "metadata": {
    "scrolled": true
   },
   "outputs": [],
   "source": [
    "# Generate data with a bigger difference in means\n",
    "population, sample = gendata(loc=-2)\n",
    "#plt.savefig(\"ttest_length_of_burn2.png\") #save turned off"
   ]
  },
  {
   "cell_type": "code",
   "execution_count": null,
   "metadata": {},
   "outputs": [],
   "source": [
    "stats.ttest_1samp(sample, population.mean())"
   ]
  },
  {
   "cell_type": "code",
   "execution_count": null,
   "metadata": {},
   "outputs": [],
   "source": []
  }
 ],
 "metadata": {
  "kernelspec": {
   "display_name": "Python 3.7.4 64-bit ('base': conda)",
   "language": "python",
   "name": "python37464bitbasecondac6f1fed7da40427ba8d315f08c07b158"
  },
  "language_info": {
   "codemirror_mode": {
    "name": "ipython",
    "version": 3
   },
   "file_extension": ".py",
   "mimetype": "text/x-python",
   "name": "python",
   "nbconvert_exporter": "python",
   "pygments_lexer": "ipython3",
   "version": "3.7.4"
  }
 },
 "nbformat": 4,
 "nbformat_minor": 2
}
