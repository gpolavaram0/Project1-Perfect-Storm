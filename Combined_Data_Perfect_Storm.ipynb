{
 "cells": [
  {
   "cell_type": "code",
   "execution_count": 7,
   "metadata": {},
   "outputs": [],
   "source": [
    "# Dependencies\n",
    "import pandas as pd\n",
    "import numpy as np\n",
    "import matplotlib.pyplot as plt\n"
   ]
  },
  {
   "cell_type": "code",
   "execution_count": 8,
   "metadata": {},
   "outputs": [
    {
     "data": {
      "text/plain": "'c:\\\\Users\\\\12162\\\\Downloads'"
     },
     "execution_count": 8,
     "metadata": {},
     "output_type": "execute_result"
    }
   ],
   "source": [
    "pwd"
   ]
  },
  {
   "cell_type": "code",
   "execution_count": 9,
   "metadata": {},
   "outputs": [
    {
     "data": {
      "text/html": "<div>\n<style scoped>\n    .dataframe tbody tr th:only-of-type {\n        vertical-align: middle;\n    }\n\n    .dataframe tbody tr th {\n        vertical-align: top;\n    }\n\n    .dataframe thead th {\n        text-align: right;\n    }\n</style>\n<table border=\"1\" class=\"dataframe\">\n  <thead>\n    <tr style=\"text-align: right;\">\n      <th></th>\n      <th>Target Geo Id2</th>\n      <th>COUNTY_2</th>\n      <th>Population</th>\n      <th>Housing units</th>\n      <th>Area in square miles - Total area</th>\n      <th>Area in square miles - Water area</th>\n      <th>Area in square miles - Land area</th>\n      <th>Density per square mile of land area - Population</th>\n      <th>Density per square mile of land area - Housing  units</th>\n    </tr>\n  </thead>\n  <tbody>\n    <tr>\n      <th>0</th>\n      <td>NaN</td>\n      <td>United States</td>\n      <td>281421906</td>\n      <td>115904641</td>\n      <td>3794083.06</td>\n      <td>256644.62</td>\n      <td>3537438.44</td>\n      <td>79.6</td>\n      <td>32.8</td>\n    </tr>\n    <tr>\n      <th>1</th>\n      <td>1.0</td>\n      <td>Alabama</td>\n      <td>4447100</td>\n      <td>1963711</td>\n      <td>52419.02</td>\n      <td>1675.01</td>\n      <td>50744.00</td>\n      <td>87.6</td>\n      <td>38.7</td>\n    </tr>\n    <tr>\n      <th>2</th>\n      <td>1001.0</td>\n      <td>Autauga County</td>\n      <td>43671</td>\n      <td>17662</td>\n      <td>604.45</td>\n      <td>8.48</td>\n      <td>595.97</td>\n      <td>73.3</td>\n      <td>29.6</td>\n    </tr>\n    <tr>\n      <th>3</th>\n      <td>1003.0</td>\n      <td>Baldwin County</td>\n      <td>140415</td>\n      <td>74285</td>\n      <td>2026.93</td>\n      <td>430.58</td>\n      <td>1596.35</td>\n      <td>88.0</td>\n      <td>46.5</td>\n    </tr>\n    <tr>\n      <th>4</th>\n      <td>1005.0</td>\n      <td>Barbour County</td>\n      <td>29038</td>\n      <td>12461</td>\n      <td>904.52</td>\n      <td>19.61</td>\n      <td>884.90</td>\n      <td>32.8</td>\n      <td>14.1</td>\n    </tr>\n  </tbody>\n</table>\n</div>",
      "text/plain": "   Target Geo Id2        COUNTY_2  Population  Housing units  \\\n0             NaN   United States   281421906      115904641   \n1             1.0         Alabama     4447100        1963711   \n2          1001.0  Autauga County       43671          17662   \n3          1003.0  Baldwin County      140415          74285   \n4          1005.0  Barbour County       29038          12461   \n\n   Area in square miles - Total area  Area in square miles - Water area  \\\n0                         3794083.06                          256644.62   \n1                           52419.02                            1675.01   \n2                             604.45                               8.48   \n3                            2026.93                             430.58   \n4                             904.52                              19.61   \n\n   Area in square miles - Land area  \\\n0                        3537438.44   \n1                          50744.00   \n2                            595.97   \n3                           1596.35   \n4                            884.90   \n\n   Density per square mile of land area - Population  \\\n0                                               79.6   \n1                                               87.6   \n2                                               73.3   \n3                                               88.0   \n4                                               32.8   \n\n   Density per square mile of land area - Housing  units  \n0                                               32.8      \n1                                               38.7      \n2                                               29.6      \n3                                               46.5      \n4                                               14.1      "
     },
     "execution_count": 9,
     "metadata": {},
     "output_type": "execute_result"
    }
   ],
   "source": [
    "# load csv census data\n",
    "\n",
    "data00 = pd.read_csv(\"C:\\\\Users\\\\12162\\\\Density00.csv\")\n",
    "data00.head(5)"
   ]
  },
  {
   "cell_type": "code",
   "execution_count": 10,
   "metadata": {},
   "outputs": [
    {
     "data": {
      "text/html": "<div>\n<style scoped>\n    .dataframe tbody tr th:only-of-type {\n        vertical-align: middle;\n    }\n\n    .dataframe tbody tr th {\n        vertical-align: top;\n    }\n\n    .dataframe thead th {\n        text-align: right;\n    }\n</style>\n<table border=\"1\" class=\"dataframe\">\n  <thead>\n    <tr style=\"text-align: right;\">\n      <th></th>\n      <th>OBJECTID</th>\n      <th>FOD_ID</th>\n      <th>FPA_ID</th>\n      <th>SOURCE_SYSTEM_TYPE</th>\n      <th>SOURCE_SYSTEM</th>\n      <th>NWCG_REPORTING_AGENCY</th>\n      <th>NWCG_REPORTING_UNIT_ID</th>\n      <th>NWCG_REPORTING_UNIT_NAME</th>\n      <th>SOURCE_REPORTING_UNIT</th>\n      <th>SOURCE_REPORTING_UNIT_NAME</th>\n      <th>...</th>\n      <th>LONGITUDE</th>\n      <th>OWNER_CODE</th>\n      <th>OWNER_DESCR</th>\n      <th>STATE</th>\n      <th>COUNTY</th>\n      <th>FIPS_CODE</th>\n      <th>FIPS_NAME</th>\n      <th>Shape</th>\n      <th>LENGTH_OF_BURN</th>\n      <th>COUNTY_2</th>\n    </tr>\n  </thead>\n  <tbody>\n    <tr>\n      <th>0</th>\n      <td>549</td>\n      <td>556</td>\n      <td>FS-1420078</td>\n      <td>FED</td>\n      <td>FS-FIRESTAT</td>\n      <td>FS</td>\n      <td>USCASQF</td>\n      <td>Sequoia National Forest</td>\n      <td>513</td>\n      <td>Sequoia National Forest</td>\n      <td>...</td>\n      <td>-118.438333</td>\n      <td>5.0</td>\n      <td>USFS</td>\n      <td>CA</td>\n      <td>NaN</td>\n      <td>NaN</td>\n      <td>NaN</td>\n      <td>b'\\x00\\x01\\xad\\x10\\x00\\x000F=\\xa7\\r\\x9c]\\xc0\\x...</td>\n      <td>1 days 00:00:00.000000000</td>\n      <td>Kern County</td>\n    </tr>\n    <tr>\n      <th>1</th>\n      <td>583</td>\n      <td>590</td>\n      <td>FS-1420201</td>\n      <td>FED</td>\n      <td>FS-FIRESTAT</td>\n      <td>FS</td>\n      <td>USAZTNF</td>\n      <td>Tonto National Forest</td>\n      <td>312</td>\n      <td>Tonto National Forest</td>\n      <td>...</td>\n      <td>-111.379722</td>\n      <td>5.0</td>\n      <td>USFS</td>\n      <td>AZ</td>\n      <td>7.0</td>\n      <td>7.0</td>\n      <td>Gila</td>\n      <td>b'\\x00\\x01\\xad\\x10\\x00\\x00\\xb8\\x1dm^M\\xd8[\\xc0...</td>\n      <td>4 days 00:00:00.000000000</td>\n      <td>Gila County</td>\n    </tr>\n    <tr>\n      <th>2</th>\n      <td>592</td>\n      <td>599</td>\n      <td>FS-1420230</td>\n      <td>FED</td>\n      <td>FS-FIRESTAT</td>\n      <td>FS</td>\n      <td>USAZTNF</td>\n      <td>Tonto National Forest</td>\n      <td>312</td>\n      <td>Tonto National Forest</td>\n      <td>...</td>\n      <td>-111.106667</td>\n      <td>5.0</td>\n      <td>USFS</td>\n      <td>AZ</td>\n      <td>7.0</td>\n      <td>7.0</td>\n      <td>Gila</td>\n      <td>b'\\x00\\x01\\xad\\x10\\x00\\x00H\\xcep\\xa0\\xd3\\xc6[\\...</td>\n      <td>6 days 00:00:00.000000000</td>\n      <td>Maricopa County</td>\n    </tr>\n    <tr>\n      <th>3</th>\n      <td>745</td>\n      <td>757</td>\n      <td>FS-1420538</td>\n      <td>FED</td>\n      <td>FS-FIRESTAT</td>\n      <td>FS</td>\n      <td>USMTCGF</td>\n      <td>Custer Gallatin National Forest</td>\n      <td>108</td>\n      <td>Custer National Forest</td>\n      <td>...</td>\n      <td>-106.358333</td>\n      <td>5.0</td>\n      <td>USFS</td>\n      <td>MT</td>\n      <td>87.0</td>\n      <td>87.0</td>\n      <td>Rosebud</td>\n      <td>b'\\x00\\x01\\xad\\x10\\x00\\x00\\xa8Z\\xeb\\xee\\xee\\x9...</td>\n      <td>4 days 00:00:00.000000000</td>\n      <td>Rosebud County</td>\n    </tr>\n    <tr>\n      <th>4</th>\n      <td>1587</td>\n      <td>1601</td>\n      <td>FS-1422365</td>\n      <td>FED</td>\n      <td>FS-FIRESTAT</td>\n      <td>FS</td>\n      <td>USMTCGF</td>\n      <td>Custer Gallatin National Forest</td>\n      <td>108</td>\n      <td>Custer National Forest</td>\n      <td>...</td>\n      <td>-105.955278</td>\n      <td>5.0</td>\n      <td>USFS</td>\n      <td>MT</td>\n      <td>75.0</td>\n      <td>75.0</td>\n      <td>Powder River</td>\n      <td>b'\\x00\\x01\\xad\\x10\\x00\\x00\\x80\\xeciE#}Z\\xc0H\\x...</td>\n      <td>10 days 00:00:00.000000000</td>\n      <td>Powder River County</td>\n    </tr>\n  </tbody>\n</table>\n<p>5 rows × 41 columns</p>\n</div>",
      "text/plain": "   OBJECTID  FOD_ID      FPA_ID SOURCE_SYSTEM_TYPE SOURCE_SYSTEM  \\\n0       549     556  FS-1420078                FED   FS-FIRESTAT   \n1       583     590  FS-1420201                FED   FS-FIRESTAT   \n2       592     599  FS-1420230                FED   FS-FIRESTAT   \n3       745     757  FS-1420538                FED   FS-FIRESTAT   \n4      1587    1601  FS-1422365                FED   FS-FIRESTAT   \n\n  NWCG_REPORTING_AGENCY NWCG_REPORTING_UNIT_ID  \\\n0                    FS                USCASQF   \n1                    FS                USAZTNF   \n2                    FS                USAZTNF   \n3                    FS                USMTCGF   \n4                    FS                USMTCGF   \n\n          NWCG_REPORTING_UNIT_NAME SOURCE_REPORTING_UNIT  \\\n0          Sequoia National Forest                   513   \n1            Tonto National Forest                   312   \n2            Tonto National Forest                   312   \n3  Custer Gallatin National Forest                   108   \n4  Custer Gallatin National Forest                   108   \n\n  SOURCE_REPORTING_UNIT_NAME  ...   LONGITUDE OWNER_CODE OWNER_DESCR STATE  \\\n0    Sequoia National Forest  ... -118.438333        5.0        USFS    CA   \n1      Tonto National Forest  ... -111.379722        5.0        USFS    AZ   \n2      Tonto National Forest  ... -111.106667        5.0        USFS    AZ   \n3     Custer National Forest  ... -106.358333        5.0        USFS    MT   \n4     Custer National Forest  ... -105.955278        5.0        USFS    MT   \n\n  COUNTY FIPS_CODE     FIPS_NAME  \\\n0    NaN       NaN           NaN   \n1    7.0       7.0          Gila   \n2    7.0       7.0          Gila   \n3   87.0      87.0       Rosebud   \n4   75.0      75.0  Powder River   \n\n                                               Shape  \\\n0  b'\\x00\\x01\\xad\\x10\\x00\\x000F=\\xa7\\r\\x9c]\\xc0\\x...   \n1  b'\\x00\\x01\\xad\\x10\\x00\\x00\\xb8\\x1dm^M\\xd8[\\xc0...   \n2  b'\\x00\\x01\\xad\\x10\\x00\\x00H\\xcep\\xa0\\xd3\\xc6[\\...   \n3  b'\\x00\\x01\\xad\\x10\\x00\\x00\\xa8Z\\xeb\\xee\\xee\\x9...   \n4  b'\\x00\\x01\\xad\\x10\\x00\\x00\\x80\\xeciE#}Z\\xc0H\\x...   \n\n               LENGTH_OF_BURN             COUNTY_2  \n0   1 days 00:00:00.000000000          Kern County  \n1   4 days 00:00:00.000000000          Gila County  \n2   6 days 00:00:00.000000000      Maricopa County  \n3   4 days 00:00:00.000000000       Rosebud County  \n4  10 days 00:00:00.000000000  Powder River County  \n\n[5 rows x 41 columns]"
     },
     "execution_count": 10,
     "metadata": {},
     "output_type": "execute_result"
    }
   ],
   "source": [
    "#load csv fire data\n",
    "\n",
    "firedf = pd.read_csv(\"C:\\\\Users\\\\12162\\\\Fires w county copy.csv\")\n",
    "firedf.head(5)"
   ]
  },
  {
   "cell_type": "code",
   "execution_count": 5,
   "metadata": {},
   "outputs": [
    {
     "data": {
      "text/html": "<div>\n<style scoped>\n    .dataframe tbody tr th:only-of-type {\n        vertical-align: middle;\n    }\n\n    .dataframe tbody tr th {\n        vertical-align: top;\n    }\n\n    .dataframe thead th {\n        text-align: right;\n    }\n</style>\n<table border=\"1\" class=\"dataframe\">\n  <thead>\n    <tr style=\"text-align: right;\">\n      <th></th>\n      <th>OBJECTID</th>\n      <th>FOD_ID</th>\n      <th>FPA_ID</th>\n      <th>apparentTemperatureHigh</th>\n      <th>apparentTemperatureHighTime</th>\n      <th>apparentTemperatureLow</th>\n      <th>apparentTemperatureLowTime</th>\n      <th>apparentTemperatureMax</th>\n      <th>apparentTemperatureMaxTime</th>\n      <th>apparentTemperatureMin</th>\n      <th>...</th>\n      <th>uvIndex</th>\n      <th>uvIndexTime</th>\n      <th>windBearing</th>\n      <th>windGust</th>\n      <th>windGustTime</th>\n      <th>windSpeed</th>\n      <th>latitude_print</th>\n      <th>longitude_print</th>\n      <th>offset_print</th>\n      <th>timezone_print</th>\n    </tr>\n  </thead>\n  <tbody>\n    <tr>\n      <th>0</th>\n      <td>549</td>\n      <td>556</td>\n      <td>FS-1420078</td>\n      <td>87.80</td>\n      <td>1.120954e+09</td>\n      <td>64.58</td>\n      <td>1.121000e+09</td>\n      <td>87.80</td>\n      <td>1.120954e+09</td>\n      <td>62.92</td>\n      <td>...</td>\n      <td>NaN</td>\n      <td>NaN</td>\n      <td>228.0</td>\n      <td>23.53</td>\n      <td>1.120940e+09</td>\n      <td>4.45</td>\n      <td>35.688056</td>\n      <td>-118.438333</td>\n      <td>-7</td>\n      <td>America/Los_Angeles</td>\n    </tr>\n    <tr>\n      <th>1</th>\n      <td>583</td>\n      <td>590</td>\n      <td>FS-1420201</td>\n      <td>99.63</td>\n      <td>1.121551e+09</td>\n      <td>72.77</td>\n      <td>1.121604e+09</td>\n      <td>99.63</td>\n      <td>1.121551e+09</td>\n      <td>75.20</td>\n      <td>...</td>\n      <td>0.0</td>\n      <td>1.121497e+09</td>\n      <td>188.0</td>\n      <td>17.93</td>\n      <td>1.121571e+09</td>\n      <td>2.85</td>\n      <td>33.933611</td>\n      <td>-111.379722</td>\n      <td>-7</td>\n      <td>America/Phoenix</td>\n    </tr>\n    <tr>\n      <th>2</th>\n      <td>592</td>\n      <td>599</td>\n      <td>FS-1420230</td>\n      <td>98.75</td>\n      <td>1.121811e+09</td>\n      <td>73.93</td>\n      <td>1.121865e+09</td>\n      <td>98.75</td>\n      <td>1.121811e+09</td>\n      <td>75.31</td>\n      <td>...</td>\n      <td>0.0</td>\n      <td>1.121756e+09</td>\n      <td>335.0</td>\n      <td>18.59</td>\n      <td>1.121760e+09</td>\n      <td>3.69</td>\n      <td>33.551111</td>\n      <td>-111.106667</td>\n      <td>-7</td>\n      <td>America/Phoenix</td>\n    </tr>\n    <tr>\n      <th>3</th>\n      <td>745</td>\n      <td>757</td>\n      <td>FS-1420538</td>\n      <td>58.72</td>\n      <td>1.112739e+09</td>\n      <td>24.84</td>\n      <td>1.112791e+09</td>\n      <td>58.72</td>\n      <td>1.112739e+09</td>\n      <td>35.31</td>\n      <td>...</td>\n      <td>0.0</td>\n      <td>1.112681e+09</td>\n      <td>317.0</td>\n      <td>29.61</td>\n      <td>1.112727e+09</td>\n      <td>8.99</td>\n      <td>45.308333</td>\n      <td>-106.358333</td>\n      <td>-6</td>\n      <td>America/Denver</td>\n    </tr>\n    <tr>\n      <th>4</th>\n      <td>1587</td>\n      <td>1601</td>\n      <td>FS-1422365</td>\n      <td>96.97</td>\n      <td>1.124746e+09</td>\n      <td>66.70</td>\n      <td>1.124799e+09</td>\n      <td>96.97</td>\n      <td>1.124746e+09</td>\n      <td>65.89</td>\n      <td>...</td>\n      <td>0.0</td>\n      <td>1.124690e+09</td>\n      <td>187.0</td>\n      <td>14.47</td>\n      <td>1.124766e+09</td>\n      <td>4.07</td>\n      <td>45.448333</td>\n      <td>-105.955278</td>\n      <td>-6</td>\n      <td>America/Denver</td>\n    </tr>\n  </tbody>\n</table>\n<p>5 rows × 41 columns</p>\n</div>",
      "text/plain": "   OBJECTID  FOD_ID      FPA_ID  apparentTemperatureHigh  \\\n0       549     556  FS-1420078                    87.80   \n1       583     590  FS-1420201                    99.63   \n2       592     599  FS-1420230                    98.75   \n3       745     757  FS-1420538                    58.72   \n4      1587    1601  FS-1422365                    96.97   \n\n   apparentTemperatureHighTime  apparentTemperatureLow  \\\n0                 1.120954e+09                   64.58   \n1                 1.121551e+09                   72.77   \n2                 1.121811e+09                   73.93   \n3                 1.112739e+09                   24.84   \n4                 1.124746e+09                   66.70   \n\n   apparentTemperatureLowTime  apparentTemperatureMax  \\\n0                1.121000e+09                   87.80   \n1                1.121604e+09                   99.63   \n2                1.121865e+09                   98.75   \n3                1.112791e+09                   58.72   \n4                1.124799e+09                   96.97   \n\n   apparentTemperatureMaxTime  apparentTemperatureMin  ...  uvIndex  \\\n0                1.120954e+09                   62.92  ...      NaN   \n1                1.121551e+09                   75.20  ...      0.0   \n2                1.121811e+09                   75.31  ...      0.0   \n3                1.112739e+09                   35.31  ...      0.0   \n4                1.124746e+09                   65.89  ...      0.0   \n\n    uvIndexTime  windBearing windGust  windGustTime  windSpeed  \\\n0           NaN        228.0    23.53  1.120940e+09       4.45   \n1  1.121497e+09        188.0    17.93  1.121571e+09       2.85   \n2  1.121756e+09        335.0    18.59  1.121760e+09       3.69   \n3  1.112681e+09        317.0    29.61  1.112727e+09       8.99   \n4  1.124690e+09        187.0    14.47  1.124766e+09       4.07   \n\n   latitude_print  longitude_print  offset_print       timezone_print  \n0       35.688056      -118.438333            -7  America/Los_Angeles  \n1       33.933611      -111.379722            -7      America/Phoenix  \n2       33.551111      -111.106667            -7      America/Phoenix  \n3       45.308333      -106.358333            -6       America/Denver  \n4       45.448333      -105.955278            -6       America/Denver  \n\n[5 rows x 41 columns]"
     },
     "execution_count": 5,
     "metadata": {},
     "output_type": "execute_result"
    }
   ],
   "source": [
    "# load weather data\n",
    "\n",
    "weatherdf = pd.read_csv(\"C:\\\\Users\\\\12162\\\\WeatherAPI_Data_All_11560_values.csv\")\n",
    "weatherdf.head(5)"
   ]
  },
  {
   "cell_type": "code",
   "execution_count": 11,
   "metadata": {},
   "outputs": [
    {
     "data": {
      "text/html": "<div>\n<style scoped>\n    .dataframe tbody tr th:only-of-type {\n        vertical-align: middle;\n    }\n\n    .dataframe tbody tr th {\n        vertical-align: top;\n    }\n\n    .dataframe thead th {\n        text-align: right;\n    }\n</style>\n<table border=\"1\" class=\"dataframe\">\n  <thead>\n    <tr style=\"text-align: right;\">\n      <th></th>\n      <th>OBJECTID</th>\n      <th>FOD_ID</th>\n      <th>FPA_ID</th>\n      <th>SOURCE_SYSTEM_TYPE</th>\n      <th>SOURCE_SYSTEM</th>\n      <th>NWCG_REPORTING_AGENCY</th>\n      <th>NWCG_REPORTING_UNIT_ID</th>\n      <th>NWCG_REPORTING_UNIT_NAME</th>\n      <th>SOURCE_REPORTING_UNIT</th>\n      <th>SOURCE_REPORTING_UNIT_NAME</th>\n      <th>...</th>\n      <th>LENGTH_OF_BURN</th>\n      <th>COUNTY_2</th>\n      <th>Target Geo Id2</th>\n      <th>Population</th>\n      <th>Housing units</th>\n      <th>Area in square miles - Total area</th>\n      <th>Area in square miles - Water area</th>\n      <th>Area in square miles - Land area</th>\n      <th>Density per square mile of land area - Population</th>\n      <th>Density per square mile of land area - Housing  units</th>\n    </tr>\n  </thead>\n  <tbody>\n    <tr>\n      <th>0</th>\n      <td>549</td>\n      <td>556</td>\n      <td>FS-1420078</td>\n      <td>FED</td>\n      <td>FS-FIRESTAT</td>\n      <td>FS</td>\n      <td>USCASQF</td>\n      <td>Sequoia National Forest</td>\n      <td>513</td>\n      <td>Sequoia National Forest</td>\n      <td>...</td>\n      <td>1 days 00:00:00.000000000</td>\n      <td>Kern County</td>\n      <td>6029.0</td>\n      <td>661645.0</td>\n      <td>231564.0</td>\n      <td>8161.42</td>\n      <td>20.46</td>\n      <td>8140.96</td>\n      <td>81.3</td>\n      <td>28.4</td>\n    </tr>\n    <tr>\n      <th>1</th>\n      <td>583</td>\n      <td>590</td>\n      <td>FS-1420201</td>\n      <td>FED</td>\n      <td>FS-FIRESTAT</td>\n      <td>FS</td>\n      <td>USAZTNF</td>\n      <td>Tonto National Forest</td>\n      <td>312</td>\n      <td>Tonto National Forest</td>\n      <td>...</td>\n      <td>4 days 00:00:00.000000000</td>\n      <td>Gila County</td>\n      <td>4007.0</td>\n      <td>51335.0</td>\n      <td>28189.0</td>\n      <td>4795.74</td>\n      <td>28.03</td>\n      <td>4767.70</td>\n      <td>10.8</td>\n      <td>5.9</td>\n    </tr>\n    <tr>\n      <th>2</th>\n      <td>592</td>\n      <td>599</td>\n      <td>FS-1420230</td>\n      <td>FED</td>\n      <td>FS-FIRESTAT</td>\n      <td>FS</td>\n      <td>USAZTNF</td>\n      <td>Tonto National Forest</td>\n      <td>312</td>\n      <td>Tonto National Forest</td>\n      <td>...</td>\n      <td>6 days 00:00:00.000000000</td>\n      <td>Maricopa County</td>\n      <td>4013.0</td>\n      <td>3072149.0</td>\n      <td>1250231.0</td>\n      <td>9224.27</td>\n      <td>21.13</td>\n      <td>9203.14</td>\n      <td>333.8</td>\n      <td>135.8</td>\n    </tr>\n    <tr>\n      <th>3</th>\n      <td>745</td>\n      <td>757</td>\n      <td>FS-1420538</td>\n      <td>FED</td>\n      <td>FS-FIRESTAT</td>\n      <td>FS</td>\n      <td>USMTCGF</td>\n      <td>Custer Gallatin National Forest</td>\n      <td>108</td>\n      <td>Custer National Forest</td>\n      <td>...</td>\n      <td>4 days 00:00:00.000000000</td>\n      <td>Rosebud County</td>\n      <td>30087.0</td>\n      <td>9383.0</td>\n      <td>3912.0</td>\n      <td>5026.94</td>\n      <td>14.57</td>\n      <td>5012.37</td>\n      <td>1.9</td>\n      <td>0.8</td>\n    </tr>\n    <tr>\n      <th>4</th>\n      <td>1587</td>\n      <td>1601</td>\n      <td>FS-1422365</td>\n      <td>FED</td>\n      <td>FS-FIRESTAT</td>\n      <td>FS</td>\n      <td>USMTCGF</td>\n      <td>Custer Gallatin National Forest</td>\n      <td>108</td>\n      <td>Custer National Forest</td>\n      <td>...</td>\n      <td>10 days 00:00:00.000000000</td>\n      <td>Powder River County</td>\n      <td>30075.0</td>\n      <td>1858.0</td>\n      <td>1007.0</td>\n      <td>3297.94</td>\n      <td>0.76</td>\n      <td>3297.18</td>\n      <td>0.6</td>\n      <td>0.3</td>\n    </tr>\n  </tbody>\n</table>\n<p>5 rows × 49 columns</p>\n</div>",
      "text/plain": "   OBJECTID  FOD_ID      FPA_ID SOURCE_SYSTEM_TYPE SOURCE_SYSTEM  \\\n0       549     556  FS-1420078                FED   FS-FIRESTAT   \n1       583     590  FS-1420201                FED   FS-FIRESTAT   \n2       592     599  FS-1420230                FED   FS-FIRESTAT   \n3       745     757  FS-1420538                FED   FS-FIRESTAT   \n4      1587    1601  FS-1422365                FED   FS-FIRESTAT   \n\n  NWCG_REPORTING_AGENCY NWCG_REPORTING_UNIT_ID  \\\n0                    FS                USCASQF   \n1                    FS                USAZTNF   \n2                    FS                USAZTNF   \n3                    FS                USMTCGF   \n4                    FS                USMTCGF   \n\n          NWCG_REPORTING_UNIT_NAME SOURCE_REPORTING_UNIT  \\\n0          Sequoia National Forest                   513   \n1            Tonto National Forest                   312   \n2            Tonto National Forest                   312   \n3  Custer Gallatin National Forest                   108   \n4  Custer Gallatin National Forest                   108   \n\n  SOURCE_REPORTING_UNIT_NAME  ...              LENGTH_OF_BURN  \\\n0    Sequoia National Forest  ...   1 days 00:00:00.000000000   \n1      Tonto National Forest  ...   4 days 00:00:00.000000000   \n2      Tonto National Forest  ...   6 days 00:00:00.000000000   \n3     Custer National Forest  ...   4 days 00:00:00.000000000   \n4     Custer National Forest  ...  10 days 00:00:00.000000000   \n\n              COUNTY_2 Target Geo Id2 Population Housing units  \\\n0          Kern County         6029.0   661645.0      231564.0   \n1          Gila County         4007.0    51335.0       28189.0   \n2      Maricopa County         4013.0  3072149.0     1250231.0   \n3       Rosebud County        30087.0     9383.0        3912.0   \n4  Powder River County        30075.0     1858.0        1007.0   \n\n  Area in square miles - Total area Area in square miles - Water area  \\\n0                           8161.42                             20.46   \n1                           4795.74                             28.03   \n2                           9224.27                             21.13   \n3                           5026.94                             14.57   \n4                           3297.94                              0.76   \n\n  Area in square miles - Land area  \\\n0                          8140.96   \n1                          4767.70   \n2                          9203.14   \n3                          5012.37   \n4                          3297.18   \n\n  Density per square mile of land area - Population  \\\n0                                              81.3   \n1                                              10.8   \n2                                             333.8   \n3                                               1.9   \n4                                               0.6   \n\n   Density per square mile of land area - Housing  units  \n0                                               28.4      \n1                                                5.9      \n2                                              135.8      \n3                                                0.8      \n4                                                0.3      \n\n[5 rows x 49 columns]"
     },
     "execution_count": 11,
     "metadata": {},
     "output_type": "execute_result"
    }
   ],
   "source": [
    "# Merge fire data and census\n",
    "mergef00 = pd.merge(firedf, data00, on=\"COUNTY_2\", how=\"left\")\n",
    "mergef00.head(5)"
   ]
  },
  {
   "cell_type": "code",
   "execution_count": 12,
   "metadata": {},
   "outputs": [
    {
     "data": {
      "text/html": "<div>\n<style scoped>\n    .dataframe tbody tr th:only-of-type {\n        vertical-align: middle;\n    }\n\n    .dataframe tbody tr th {\n        vertical-align: top;\n    }\n\n    .dataframe thead th {\n        text-align: right;\n    }\n</style>\n<table border=\"1\" class=\"dataframe\">\n  <thead>\n    <tr style=\"text-align: right;\">\n      <th></th>\n      <th>OBJECTID</th>\n      <th>FOD_ID_x</th>\n      <th>FPA_ID_x</th>\n      <th>SOURCE_SYSTEM_TYPE</th>\n      <th>SOURCE_SYSTEM</th>\n      <th>NWCG_REPORTING_AGENCY</th>\n      <th>NWCG_REPORTING_UNIT_ID</th>\n      <th>NWCG_REPORTING_UNIT_NAME</th>\n      <th>SOURCE_REPORTING_UNIT</th>\n      <th>SOURCE_REPORTING_UNIT_NAME</th>\n      <th>...</th>\n      <th>uvIndex</th>\n      <th>uvIndexTime</th>\n      <th>windBearing</th>\n      <th>windGust</th>\n      <th>windGustTime</th>\n      <th>windSpeed</th>\n      <th>latitude_print</th>\n      <th>longitude_print</th>\n      <th>offset_print</th>\n      <th>timezone_print</th>\n    </tr>\n  </thead>\n  <tbody>\n    <tr>\n      <th>0</th>\n      <td>549</td>\n      <td>556</td>\n      <td>FS-1420078</td>\n      <td>FED</td>\n      <td>FS-FIRESTAT</td>\n      <td>FS</td>\n      <td>USCASQF</td>\n      <td>Sequoia National Forest</td>\n      <td>513</td>\n      <td>Sequoia National Forest</td>\n      <td>...</td>\n      <td>NaN</td>\n      <td>NaN</td>\n      <td>228.0</td>\n      <td>23.53</td>\n      <td>1.120940e+09</td>\n      <td>4.45</td>\n      <td>35.688056</td>\n      <td>-118.438333</td>\n      <td>-7</td>\n      <td>America/Los_Angeles</td>\n    </tr>\n    <tr>\n      <th>1</th>\n      <td>583</td>\n      <td>590</td>\n      <td>FS-1420201</td>\n      <td>FED</td>\n      <td>FS-FIRESTAT</td>\n      <td>FS</td>\n      <td>USAZTNF</td>\n      <td>Tonto National Forest</td>\n      <td>312</td>\n      <td>Tonto National Forest</td>\n      <td>...</td>\n      <td>0.0</td>\n      <td>1.121497e+09</td>\n      <td>188.0</td>\n      <td>17.93</td>\n      <td>1.121571e+09</td>\n      <td>2.85</td>\n      <td>33.933611</td>\n      <td>-111.379722</td>\n      <td>-7</td>\n      <td>America/Phoenix</td>\n    </tr>\n    <tr>\n      <th>2</th>\n      <td>592</td>\n      <td>599</td>\n      <td>FS-1420230</td>\n      <td>FED</td>\n      <td>FS-FIRESTAT</td>\n      <td>FS</td>\n      <td>USAZTNF</td>\n      <td>Tonto National Forest</td>\n      <td>312</td>\n      <td>Tonto National Forest</td>\n      <td>...</td>\n      <td>0.0</td>\n      <td>1.121756e+09</td>\n      <td>335.0</td>\n      <td>18.59</td>\n      <td>1.121760e+09</td>\n      <td>3.69</td>\n      <td>33.551111</td>\n      <td>-111.106667</td>\n      <td>-7</td>\n      <td>America/Phoenix</td>\n    </tr>\n    <tr>\n      <th>3</th>\n      <td>745</td>\n      <td>757</td>\n      <td>FS-1420538</td>\n      <td>FED</td>\n      <td>FS-FIRESTAT</td>\n      <td>FS</td>\n      <td>USMTCGF</td>\n      <td>Custer Gallatin National Forest</td>\n      <td>108</td>\n      <td>Custer National Forest</td>\n      <td>...</td>\n      <td>0.0</td>\n      <td>1.112681e+09</td>\n      <td>317.0</td>\n      <td>29.61</td>\n      <td>1.112727e+09</td>\n      <td>8.99</td>\n      <td>45.308333</td>\n      <td>-106.358333</td>\n      <td>-6</td>\n      <td>America/Denver</td>\n    </tr>\n    <tr>\n      <th>4</th>\n      <td>1587</td>\n      <td>1601</td>\n      <td>FS-1422365</td>\n      <td>FED</td>\n      <td>FS-FIRESTAT</td>\n      <td>FS</td>\n      <td>USMTCGF</td>\n      <td>Custer Gallatin National Forest</td>\n      <td>108</td>\n      <td>Custer National Forest</td>\n      <td>...</td>\n      <td>0.0</td>\n      <td>1.124690e+09</td>\n      <td>187.0</td>\n      <td>14.47</td>\n      <td>1.124766e+09</td>\n      <td>4.07</td>\n      <td>45.448333</td>\n      <td>-105.955278</td>\n      <td>-6</td>\n      <td>America/Denver</td>\n    </tr>\n  </tbody>\n</table>\n<p>5 rows × 89 columns</p>\n</div>",
      "text/plain": "   OBJECTID  FOD_ID_x    FPA_ID_x SOURCE_SYSTEM_TYPE SOURCE_SYSTEM  \\\n0       549       556  FS-1420078                FED   FS-FIRESTAT   \n1       583       590  FS-1420201                FED   FS-FIRESTAT   \n2       592       599  FS-1420230                FED   FS-FIRESTAT   \n3       745       757  FS-1420538                FED   FS-FIRESTAT   \n4      1587      1601  FS-1422365                FED   FS-FIRESTAT   \n\n  NWCG_REPORTING_AGENCY NWCG_REPORTING_UNIT_ID  \\\n0                    FS                USCASQF   \n1                    FS                USAZTNF   \n2                    FS                USAZTNF   \n3                    FS                USMTCGF   \n4                    FS                USMTCGF   \n\n          NWCG_REPORTING_UNIT_NAME SOURCE_REPORTING_UNIT  \\\n0          Sequoia National Forest                   513   \n1            Tonto National Forest                   312   \n2            Tonto National Forest                   312   \n3  Custer Gallatin National Forest                   108   \n4  Custer Gallatin National Forest                   108   \n\n  SOURCE_REPORTING_UNIT_NAME  ... uvIndex   uvIndexTime windBearing windGust  \\\n0    Sequoia National Forest  ...     NaN           NaN       228.0    23.53   \n1      Tonto National Forest  ...     0.0  1.121497e+09       188.0    17.93   \n2      Tonto National Forest  ...     0.0  1.121756e+09       335.0    18.59   \n3     Custer National Forest  ...     0.0  1.112681e+09       317.0    29.61   \n4     Custer National Forest  ...     0.0  1.124690e+09       187.0    14.47   \n\n   windGustTime windSpeed latitude_print longitude_print offset_print  \\\n0  1.120940e+09      4.45      35.688056     -118.438333           -7   \n1  1.121571e+09      2.85      33.933611     -111.379722           -7   \n2  1.121760e+09      3.69      33.551111     -111.106667           -7   \n3  1.112727e+09      8.99      45.308333     -106.358333           -6   \n4  1.124766e+09      4.07      45.448333     -105.955278           -6   \n\n        timezone_print  \n0  America/Los_Angeles  \n1      America/Phoenix  \n2      America/Phoenix  \n3       America/Denver  \n4       America/Denver  \n\n[5 rows x 89 columns]"
     },
     "execution_count": 12,
     "metadata": {},
     "output_type": "execute_result"
    }
   ],
   "source": [
    "# Join mergef00 and weather_data\n",
    "combData = pd.merge(mergef00, weatherdf, on=\"OBJECTID\", how=\"left\") \n",
    "combData.head(5)"
   ]
  },
  {
   "cell_type": "code",
   "execution_count": null,
   "metadata": {},
   "outputs": [],
   "source": []
  }
 ],
 "metadata": {
  "kernelspec": {
   "display_name": "Python 3.7.6 64-bit ('PythonData': conda)",
   "language": "python",
   "name": "python37664bitpythondatacondad01675346f0947a397e88e5c85311190"
  },
  "language_info": {
   "codemirror_mode": {
    "name": "ipython",
    "version": 3
   },
   "file_extension": ".py",
   "mimetype": "text/x-python",
   "name": "python",
   "nbconvert_exporter": "python",
   "pygments_lexer": "ipython3",
   "version": "3.7.6-final"
  }
 },
 "nbformat": 4,
 "nbformat_minor": 2
}